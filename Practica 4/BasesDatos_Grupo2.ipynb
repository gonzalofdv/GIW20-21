{
 "cells": [
  {
   "cell_type": "markdown",
   "metadata": {},
   "source": [
    "### Práctica de Acceso a bases de datos"
   ]
  },
  {
   "cell_type": "markdown",
   "metadata": {},
   "source": [
    "Considerar una base de datos acerca de la liga de baloncesto formada por dos tablas:\n",
    "\n",
    "__Tabla \"equipos\"__:\n",
    "\n",
    "* registro\tNumérico (Valor único)\n",
    "* nombre\tCadena\n",
    "* nombre_entrenador\tCadena\n",
    "* nombre_cancha\tCadena\n",
    "* poblacion\tCadena\n",
    "* anio_fundacion\tNumérico\n",
    "* anotaciones \tCadena\t \n",
    "\n",
    "\n",
    "__Tabla \"partidos\"__:\n",
    "\n",
    "* registro\tNumérico (Valor único)\n",
    "* id_equipo1\tNumérico\t\n",
    "* resultado_equipo1\tNumérico\t\n",
    "* id_equipo2\tNumérico\t\n",
    "* resultado_equipo2\tNumérico\n",
    "\n",
    "__Valores de tabla Equipos__:\n",
    "\n",
    "1, 'Winterthur F.C. Barcelona', 'Dusko Ivanovic', 'Palau Blaugrana', 'BARCELONA', 1926, 'Ganador de copa de Europa'\n",
    "\n",
    "2, 'Real Madrid', 'Joan Plaza', 'Palacio de Vistalegre', 'MADRID', 1932, 'Ganador de copa de Europa y varias ligas'\n",
    "\n",
    "3, 'Club Baloncesto Estudiantes', 'Pedro Martínez', 'Madrid Arena', 'MADRID', 1948, ''\n",
    "\n",
    "4, 'Unicaja Málaga', 'Sergio Scariolo', 'Palacio de Deportes', 'MALAGA', 1992, 'Último ganador de la liga ACB 2006'\n",
    "\n",
    "5, 'Caja San Fernando', 'Manel Comas', 'Palacio municipal de los deportes San Pablo', 'SEVILLA', 1987, ''\n",
    "\n",
    "6, 'TAU Cerámica', 'Velimir Perasovic', 'Fernando Buesa Arena', 'VITORIA', 1959, ''\n",
    "\n",
    "7, 'Joventut de Badalona', 'Aíto García Reneses', 'Pabellón Olímpico de Badalona', 'BADALONA', 1930, ''\n",
    "\n",
    "__Valores de tabla Partidos__:\n",
    "\n",
    "1, 1, 7, 100, 99\n",
    "\n",
    "2, 1, 3, 66, 45\n",
    "\n",
    "3, 2, 3, 68, 92\n",
    "\n",
    "4, 7, 1, 50,60\n",
    "\n",
    "5, 5, 1, 76, 45\n",
    "\n",
    "6, 2, 1, 99, 98\n",
    "\n",
    "7, 6, 1, 101, 103\n",
    "\n",
    "8, 6, 2, 80, 85\n",
    "\n",
    "9, 3, 5, 80, 80\n",
    "\n",
    "10, 3, 1, 57, 65\n",
    "\n",
    "11, 3, 2, 67, 58\n",
    "\n",
    "Se pide:\n",
    "1.  Hacer una función que cree la base de datos \"baloncesto\" con sus tablas y datos correspondientes (2.5 puntos)\n",
    "2.  Resolver las siguientes consultas(7.5 puntos):\n",
    "\n",
    "   * El número de equipos y población agrupados por la población ordenados decrecientemente  por el número de equipos\n",
    "   \n",
    "   * Partidos jugados: nombre del equipo1, nombre del equipo2, resultado equipo1, resultado equipo2 ordenados por el nombre del equipo1\n",
    "   \n",
    "   * Nº total de partidos jugados y nombre del equipo ordenado decrecientemente por el nº de partidos jugados.\n",
    "   \n",
    "   \n",
    "   * Hallar la media de la puntuación de cada equipo y nombre del equipo ordenada decrecientemente por el nº de puntos\n",
    "   \n",
    "   * Hallar la máxima diferencia de puntos entre todos los partidos de los equipos añadiendo el nombre  del equipo1 y equipo2 ordenados descrecientemente por el nuevo campo calculado máxima diferencia de puntos.\n",
    "   \n",
    "   * Mostrar los campos nombre, nombre del entrenador, nombre de la cancha, población y año de fundación  de todos los equipos que se hayan jugado ningún partido.\n",
    "\n",
    "#### Normas de entrega\n",
    "\n",
    "* Fecha tope de entrega: 5/10/2020\n",
    "* La entrega se realizará subiendo al campus virtual un notebook de Jupyter con la solución. El archivo tendrá como nombre BasesDatos_GrupoX donde X será el número de grupo correspondiente.\n"
   ]
  },
  {
   "cell_type": "code",
   "execution_count": 11,
   "metadata": {},
   "outputs": [
    {
     "name": "stdout",
     "output_type": "stream",
     "text": [
      "[(1, 'Winterthur F.C. Barcelona', 'Dusko Ivanovic', 'Palau Blaugrana', 'BARCELONA', 1926, 'Ganador de copa de Europa'), (2, 'Real Madrid', 'Joan Plaza', 'Palacio de Vistalegre', 'MADRID', 1932, 'Ganador de copa de Europa y varias ligas'), (3, 'Club Baloncesto Estudiantes', 'Pedro Martinez', 'Madrid Arena', 'MADRID', 1948, ''), (4, 'Unicaja Málaga', 'Sergio Scariolo', 'Palacio de Deportes', 'MALAGA', 1992, 'Ultimo ganador de la liga ACB 2006'), (5, 'Caja San Fernando', 'Manel Comas', 'Palacio municipal de los deportes San Pablo', 'SEVILLA', 1987, ''), (6, 'TAU Ceramica', 'Velimir Perasovic', 'Fernando Buesa Arena', 'VITORIA', 1959, ''), (7, 'Joventut de Badalona', 'Aito Garcia Reneses', 'Pabellón Olímpico de Badalona', 'BADALONA', 1930, '')]\n",
      "[(1, 1, 7, 100, 99), (2, 1, 3, 66, 45), (3, 2, 3, 68, 92), (4, 7, 1, 50, 60), (5, 5, 1, 76, 45), (6, 2, 1, 99, 98), (7, 6, 1, 101, 103), (8, 6, 2, 80, 85), (9, 3, 5, 80, 80), (10, 3, 1, 57, 65), (11, 3, 2, 67, 58)]\n"
     ]
    }
   ],
   "source": [
    "######################################\n",
    "##########   EJERCICIO 1    ##########\n",
    "######################################\n",
    "\n",
    "def crearTablas(conn):\n",
    "\n",
    "    cur=conn.cursor()\n",
    "    \n",
    "    #Borramos las tablas en caso de que ya existan en la BD\n",
    "    cur.execute(\"DROP TABLE IF EXISTS Equipos\")\n",
    "    cur.execute(\"DROP TABLE IF EXISTS Partidos\")\n",
    "\n",
    "    conn.commit()\n",
    "\n",
    "    #Creamos las tablas con sus diferentes campos indicando las claves y referencias\n",
    "    cur.execute(\"CREATE TABLE Equipos (idE INTEGER PRIMARY KEY, nombre TEXT, entrenador TEXT, cancha TEXT, poblacion TEXT, anio INTEGER, anotaciones TEXT)\")\n",
    "    cur.execute(\"CREATE TABLE Partidos (idP INTEGER PRIMARY KEY, idE1 INTEGER REFERENCES Equipos(idE), idE2 INTEGER REFERENCES Equipos(idE), result1 INTEGER, result2 INTEGER)\")\n",
    "    cur.close()\n",
    "\n",
    "    conn.commit()\n",
    "\n",
    "def cargarTablas(conn):\n",
    "    cur=conn.cursor()\n",
    "    #Equipos\n",
    "    equipos=[(1, \"Winterthur F.C. Barcelona\", \"Dusko Ivanovic\", \"Palau Blaugrana\", \"BARCELONA\", 1926, \"Ganador de copa de Europa\"),\n",
    "            (2, \"Real Madrid\", \"Joan Plaza\", \"Palacio de Vistalegre\", \"MADRID\", 1932, \"Ganador de copa de Europa y varias ligas\"),\n",
    "            (3, \"Club Baloncesto Estudiantes\", \"Pedro Martinez\", \"Madrid Arena\", \"MADRID\", 1948, \"\"),\n",
    "            (4, \"Unicaja Málaga\", \"Sergio Scariolo\", \"Palacio de Deportes\", \"MALAGA\", 1992, \"Ultimo ganador de la liga ACB 2006\"),\n",
    "            (5, \"Caja San Fernando\", \"Manel Comas\", \"Palacio municipal de los deportes San Pablo\", \"SEVILLA\", 1987, \"\"),\n",
    "            (6, \"TAU Ceramica\", \"Velimir Perasovic\", \"Fernando Buesa Arena\", \"VITORIA\", 1959, \"\"),\n",
    "            (7, \"Joventut de Badalona\", \"Aito Garcia Reneses\", \"Pabellón Olímpico de Badalona\", \"BADALONA\", 1930, \"\")]\n",
    "\n",
    "    #Cargamos datos en la tabla Equipos\n",
    "    cur.executemany(\"INSERT INTO Equipos (idE, nombre, entrenador, cancha, poblacion, anio, anotaciones) VALUES (?,?,?,?,?,?,?)\", equipos)\n",
    "    \n",
    "    #Partidos\n",
    "    partidos=[(1, 1, 7, 100, 99), (2, 1, 3, 66, 45), (3, 2, 3, 68, 92), (4, 7, 1, 50, 60), (5, 5, 1, 76, 45), (6, 2, 1, 99, 98),\n",
    "            (7, 6, 1, 101, 103), (8, 6, 2, 80, 85), (9, 3, 5, 80, 80), (10, 3, 1, 57, 65), (11, 3, 2, 67, 58)]\n",
    "\n",
    "    #Cargamos datos en la tabla Partidos\n",
    "    cur.executemany(\"INSERT INTO Partidos (idP, idE1, idE2, result1, result2) VALUES (?,?,?,?,?)\", partidos)\n",
    "    \n",
    "    #Comprobamos que se han insertado los datos correctamente haciendo un print\n",
    "    cur.execute(\"SELECT * FROM Equipos\")\n",
    "    print(cur.fetchall())\n",
    "    cur.execute(\"SELECT * FROM Partidos\")\n",
    "    print(cur.fetchall())\n",
    "    \n",
    "    cur.close()\n",
    "    conn.commit()\n",
    "    \n",
    "# ----------- Creación y conexión con la BD ------------    \n",
    "import sqlite3\n",
    "conn=sqlite3.connect(\"liga.sqlite3\")\n",
    "crearTablas(conn)\n",
    "cargarTablas(conn)"
   ]
  },
  {
   "cell_type": "code",
   "execution_count": 12,
   "metadata": {},
   "outputs": [],
   "source": [
    "######################################\n",
    "##########   EJERCICIO 2    ##########\n",
    "######################################\n",
    "\n",
    "\n",
    "\n",
    "#EJECUTAR PRIMERO ESTA CELDA PARA CONECTARSE A LA BASE DE DATOS Y CREAR EL CURSOR PARA LAS CONSULTAS\n",
    "\n",
    "import sqlite3\n",
    "conn=sqlite3.connect(\"liga.sqlite3\")\n",
    "cur=conn.cursor()"
   ]
  },
  {
   "cell_type": "code",
   "execution_count": 13,
   "metadata": {},
   "outputs": [
    {
     "name": "stdout",
     "output_type": "stream",
     "text": [
      "Poblacion: MADRID --- Num. equipos: 2\n",
      "Poblacion: VITORIA --- Num. equipos: 1\n",
      "Poblacion: SEVILLA --- Num. equipos: 1\n",
      "Poblacion: MALAGA --- Num. equipos: 1\n",
      "Poblacion: BARCELONA --- Num. equipos: 1\n",
      "Poblacion: BADALONA --- Num. equipos: 1\n"
     ]
    }
   ],
   "source": [
    "#Consulta 1. El número de equipos y población agrupados por la población ordenados decrecientemente por el número de equipos\n",
    "\n",
    "cur.execute(\"SELECT poblacion, COUNT(poblacion) AS [NumEquipos] FROM Equipos GROUP BY poblacion ORDER BY [NumEquipos] DESC\")\n",
    "\n",
    "consulta=cur.fetchall()\n",
    "for row in consulta:\n",
    "    print(\"Poblacion: \" + str(row[0]) + \" --- Num. equipos: \" + str(row[1]))"
   ]
  },
  {
   "cell_type": "code",
   "execution_count": 14,
   "metadata": {},
   "outputs": [
    {
     "name": "stdout",
     "output_type": "stream",
     "text": [
      "Caja San Fernando - Winterthur F.C. Barcelona ----- RESULTADO: ----- 76 - 45\n",
      "Club Baloncesto Estudiantes - Caja San Fernando ----- RESULTADO: ----- 80 - 80\n",
      "Club Baloncesto Estudiantes - Winterthur F.C. Barcelona ----- RESULTADO: ----- 57 - 65\n",
      "Club Baloncesto Estudiantes - Real Madrid ----- RESULTADO: ----- 67 - 58\n",
      "Joventut de Badalona - Winterthur F.C. Barcelona ----- RESULTADO: ----- 50 - 60\n",
      "Real Madrid - Club Baloncesto Estudiantes ----- RESULTADO: ----- 68 - 92\n",
      "Real Madrid - Winterthur F.C. Barcelona ----- RESULTADO: ----- 99 - 98\n",
      "TAU Ceramica - Winterthur F.C. Barcelona ----- RESULTADO: ----- 101 - 103\n",
      "TAU Ceramica - Real Madrid ----- RESULTADO: ----- 80 - 85\n",
      "Winterthur F.C. Barcelona - Joventut de Badalona ----- RESULTADO: ----- 100 - 99\n",
      "Winterthur F.C. Barcelona - Club Baloncesto Estudiantes ----- RESULTADO: ----- 66 - 45\n"
     ]
    }
   ],
   "source": [
    "#Consulta 2. Partidos jugados: nombre del equipo1, nombre del equipo2, resultado equipo1, resultado equipo2 \n",
    "#ordenados por el nombre del equipo1\n",
    "\n",
    "cur.execute(\"SELECT e.nombre, p.result1, e2.nombre, p.result2 FROM Equipos e, Equipos e2, Partidos p WHERE e.idE = p.idE1 AND e2.idE = p.idE2 ORDER BY e.nombre\")\n",
    "\n",
    "consulta=cur.fetchall()\n",
    "for row in consulta:\n",
    "    print(str(row[0]) + \" - \" + str(row[2]) + \" ----- RESULTADO: ----- \" + str(row[1]) + \" - \" + str(row[3]))"
   ]
  },
  {
   "cell_type": "code",
   "execution_count": 15,
   "metadata": {},
   "outputs": [
    {
     "name": "stdout",
     "output_type": "stream",
     "text": [
      "Equipo: Winterthur F.C. Barcelona ----- Num. Partidos: 7\n",
      "Equipo: Club Baloncesto Estudiantes ----- Num. Partidos: 5\n",
      "Equipo: Real Madrid ----- Num. Partidos: 4\n",
      "Equipo: TAU Ceramica ----- Num. Partidos: 2\n",
      "Equipo: Joventut de Badalona ----- Num. Partidos: 2\n",
      "Equipo: Caja San Fernando ----- Num. Partidos: 2\n"
     ]
    }
   ],
   "source": [
    "#Consulta 3. Nº total de partidos jugados y nombre del equipo ordenado decrecientemente por el nº de partidos jugados.\n",
    "\n",
    "cur.execute(\"SELECT e.nombre, COUNT(p.idP) AS [NumPartidos] FROM Equipos e, Partidos p WHERE e.idE = p.idE1 OR e.idE = p.idE2 GROUP BY nombre ORDER BY [NumPartidos] DESC\")\n",
    "\n",
    "consulta=cur.fetchall()\n",
    "for row in consulta:\n",
    "    print(\"Equipo: \" + str(row[0]) + \" ----- Num. Partidos: \" + str(row[1]))"
   ]
  },
  {
   "cell_type": "code",
   "execution_count": 16,
   "metadata": {},
   "outputs": [
    {
     "name": "stdout",
     "output_type": "stream",
     "text": [
      "Unicaja Málaga None\n",
      "Club Baloncesto Estudiantes 68.2\n",
      "Joventut de Badalona 74.5\n",
      "Winterthur F.C. Barcelona 76.71428571428571\n",
      "Real Madrid 77.5\n",
      "Caja San Fernando 78.0\n",
      "TAU Ceramica 90.5\n"
     ]
    }
   ],
   "source": [
    "#Consulta 4. Hallar la media de la puntuación de cada equipo y nombre del equipo ordenada decrecientemente por el nº de puntos\n",
    "#Hacemos la media de la unión de dos consultas:\n",
    "\n",
    "# 1º Consulta: Muestra los resultados de los partidos del equipo en E1\n",
    "# 2º Consulta: Muestra los resultados de los partidos del equipo en E2\n",
    "# Tras hacer el UNION ALL, se hace la media de todos los resultados de los partidos jugados de cada equipo\n",
    "\n",
    "cur.execute(\"SELECT e.nombre, AVG((SELECT p.result1 WHERE e.idE = p.idE1 UNION ALL SELECT p.result2 WHERE e.idE = p.idE2)) AS [Media] FROM Equipos e, Partidos p GROUP BY e.nombre ORDER BY [Media]\")\n",
    "consulta=cur.fetchall()\n",
    "for row in consulta:\n",
    "    print(str(row[0]) + \" \" + str(row[1]))"
   ]
  },
  {
   "cell_type": "code",
   "execution_count": 17,
   "metadata": {},
   "outputs": [
    {
     "name": "stdout",
     "output_type": "stream",
     "text": [
      "Winterthur F.C. Barcelona ----- 1 ------- Joventut de Badalona\n",
      "Winterthur F.C. Barcelona ----- 21 ------- Club Baloncesto Estudiantes\n",
      "Real Madrid ----- 24 ------- Club Baloncesto Estudiantes\n",
      "Joventut de Badalona ----- 10 ------- Winterthur F.C. Barcelona\n",
      "Caja San Fernando ----- 31 ------- Winterthur F.C. Barcelona\n",
      "Real Madrid ----- 1 ------- Winterthur F.C. Barcelona\n",
      "TAU Ceramica ----- 2 ------- Winterthur F.C. Barcelona\n",
      "TAU Ceramica ----- 5 ------- Real Madrid\n",
      "Club Baloncesto Estudiantes ----- 0 ------- Caja San Fernando\n",
      "Club Baloncesto Estudiantes ----- 8 ------- Winterthur F.C. Barcelona\n",
      "Club Baloncesto Estudiantes ----- 9 ------- Real Madrid\n"
     ]
    }
   ],
   "source": [
    "#Consulta 5. Hallar la máxima diferencia de puntos entre todos los partidos de los equipos añadiendo \n",
    "#el nombre del equipo1 y equipo2 ordenados descrecientemente por el nuevo campo calculado máxima diferencia de puntos.\n",
    "\n",
    "cur.execute(\"SELECT e.nombre, ABS(p.result1 - p.result2), e2.nombre FROM Equipos e, Equipos e2, Partidos p WHERE e.idE = p.idE1 AND e2.idE = p.idE2\")\n",
    "\n",
    "consulta=cur.fetchall()\n",
    "for row in consulta:\n",
    "    print(str(row[0]) + \" ----- \" + str(row[1]) + \" ------- \" + str(row[2]))"
   ]
  },
  {
   "cell_type": "code",
   "execution_count": 19,
   "metadata": {},
   "outputs": [
    {
     "name": "stdout",
     "output_type": "stream",
     "text": [
      "Nombre: Unicaja Málaga\n",
      "Entrenador: Sergio Scariolo\n",
      "Cancha: Palacio de Deportes\n",
      "Poblacion: MALAGA\n",
      "Fundación: 1992\n"
     ]
    }
   ],
   "source": [
    "#Consulta 6. Mostrar los campos nombre, nombre del entrenador, nombre de la cancha, población y año de fundación\n",
    "#de todos los equipos que se hayan jugado ningún partido.\n",
    "\n",
    "cur.execute(\"SELECT nombre, entrenador, cancha, poblacion, anio FROM Equipos WHERE idE NOT IN (SELECT idE1 FROM Partidos) AND idE NOT IN (SELECT idE2 FROM Partidos)\")\n",
    "consulta=cur.fetchall()\n",
    "for row in consulta:\n",
    "    print(\"Nombre: \" + str(row[0]) + \"\\nEntrenador: \" + str(row[1]) + \"\\nCancha: \" + str(row[2]) + \"\\nPoblacion: \" + str(row[3]) + \"\\nFundación: \" + str(row[4]))"
   ]
  },
  {
   "cell_type": "code",
   "execution_count": null,
   "metadata": {},
   "outputs": [],
   "source": []
  }
 ],
 "metadata": {
  "kernelspec": {
   "display_name": "Python 3",
   "language": "python",
   "name": "python3"
  },
  "language_info": {
   "codemirror_mode": {
    "name": "ipython",
    "version": 3
   },
   "file_extension": ".py",
   "mimetype": "text/x-python",
   "name": "python",
   "nbconvert_exporter": "python",
   "pygments_lexer": "ipython3",
   "version": "3.8.3"
  }
 },
 "nbformat": 4,
 "nbformat_minor": 2
}
